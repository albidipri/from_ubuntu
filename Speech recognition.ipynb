{
 "cells": [
  {
   "cell_type": "code",
   "execution_count": 1,
   "metadata": {},
   "outputs": [],
   "source": [
    "import speech_recognition as sr\n",
    "from pydub.playback import play\n",
    "from pydub import AudioSegment\n",
    "from pydub.silence import split_on_silence"
   ]
  },
  {
   "cell_type": "code",
   "execution_count": 45,
   "metadata": {},
   "outputs": [
    {
     "name": "stdout",
     "output_type": "stream",
     "text": [
      "Listening to the audiofile...\n",
      "Here is what I understood: \n",
      " do you think the Olympus dictation management system the Olympus dictation management system gives you the power to manage your dictations transcriptions and document seamlessly and to improve the productivity of your daily work for example you can automatically send the dictation files or transcribe documents do your assistant ociosa email oscp if you're using the speech recognition software the speech recognition engine works in the background to support your document creation we hope you enjoy the simple flexible reliable and Secure Solutions from Olympus\n"
     ]
    }
   ],
   "source": [
    "recognizer_instance = sr.Recognizer() # Crea una istanza del recognizer\n",
    "\n",
    "with sr.AudioFile('Welcome.wav') as source:\n",
    "    recognizer_instance.pause_threshold = 100.0 \n",
    "    recognizer_instance.adjust_for_ambient_noise(source)\n",
    "    #print(\"Sono in ascolto... parla pure!\")\n",
    "    audio = recognizer_instance.listen(source)\n",
    "    print(\"Listening to the audiofile...\")\n",
    "try:\n",
    "    text = recognizer_instance.recognize_google(audio,language=\"en-EN\")\n",
    "    print(\"Here is what I understood: \\n\", text)\n",
    "except Exception as e:\n",
    "    print(e)"
   ]
  },
  {
   "cell_type": "code",
   "execution_count": null,
   "metadata": {},
   "outputs": [],
   "source": []
  }
 ],
 "metadata": {
  "kernelspec": {
   "display_name": "Python 3",
   "language": "python",
   "name": "python3"
  },
  "language_info": {
   "codemirror_mode": {
    "name": "ipython",
    "version": 3
   },
   "file_extension": ".py",
   "mimetype": "text/x-python",
   "name": "python",
   "nbconvert_exporter": "python",
   "pygments_lexer": "ipython3",
   "version": "3.7.3"
  }
 },
 "nbformat": 4,
 "nbformat_minor": 2
}
